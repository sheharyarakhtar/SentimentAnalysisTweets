{
  "nbformat": 4,
  "nbformat_minor": 0,
  "metadata": {
    "colab": {
      "name": "TweetSentimentAnalysis.ipynb",
      "provenance": [],
      "collapsed_sections": [],
      "authorship_tag": "ABX9TyO+BaxiupGmxPondsVNHEJu",
      "include_colab_link": true
    },
    "kernelspec": {
      "name": "ir",
      "display_name": "R"
    },
    "language_info": {
      "name": "R"
    }
  },
  "cells": [
    {
      "cell_type": "markdown",
      "metadata": {
        "id": "view-in-github",
        "colab_type": "text"
      },
      "source": [
        "<a href=\"https://colab.research.google.com/github/sheharyarakhtar/SentimentAnalysisTweets/blob/main/TweetSentimentAnalysis.ipynb\" target=\"_parent\"><img src=\"https://colab.research.google.com/assets/colab-badge.svg\" alt=\"Open In Colab\"/></a>"
      ]
    },
    {
      "cell_type": "code",
      "metadata": {
        "colab": {
          "base_uri": "https://localhost:8080/"
        },
        "id": "DZvK0THWr2RF",
        "outputId": "b2b00d53-df4e-4c13-8103-69b5e050e795"
      },
      "source": [
        "install.packages('class')\n",
        "install.packages('quanteda')"
      ],
      "execution_count": null,
      "outputs": [
        {
          "output_type": "stream",
          "text": [
            "Installing package into ‘/usr/local/lib/R/site-library’\n",
            "(as ‘lib’ is unspecified)\n",
            "\n",
            "Installing package into ‘/usr/local/lib/R/site-library’\n",
            "(as ‘lib’ is unspecified)\n",
            "\n",
            "also installing the dependencies ‘coda’, ‘rle’, ‘extrafontdb’, ‘Rttf2pt1’, ‘statnet.common’, ‘ISOcodes’, ‘data.table’, ‘extrafont’, ‘fastmatch’, ‘ggrepel’, ‘network’, ‘RcppParallel’, ‘sna’, ‘SnowballC’, ‘stopwords’, ‘proxyC’, ‘RcppArmadillo’\n",
            "\n",
            "\n"
          ],
          "name": "stderr"
        }
      ]
    },
    {
      "cell_type": "code",
      "metadata": {
        "colab": {
          "base_uri": "https://localhost:8080/"
        },
        "id": "jfI4OGYTx7Nn",
        "outputId": "4ee3c8e2-03ca-4ca1-d6d2-011fe9c3c739"
      },
      "source": [
        "install.packages('caret')"
      ],
      "execution_count": null,
      "outputs": [
        {
          "output_type": "stream",
          "text": [
            "Installing package into ‘/usr/local/lib/R/site-library’\n",
            "(as ‘lib’ is unspecified)\n",
            "\n",
            "also installing the dependencies ‘numDeriv’, ‘SQUAREM’, ‘lava’, ‘prodlim’, ‘iterators’, ‘gower’, ‘ipred’, ‘timeDate’, ‘foreach’, ‘plyr’, ‘ModelMetrics’, ‘reshape2’, ‘recipes’, ‘pROC’\n",
            "\n",
            "\n"
          ],
          "name": "stderr"
        }
      ]
    },
    {
      "cell_type": "code",
      "metadata": {
        "colab": {
          "base_uri": "https://localhost:8080/"
        },
        "id": "K_NWAj1TyxkW",
        "outputId": "e4629b2e-2028-403d-be9f-e0cba3dda770"
      },
      "source": [
        "library(caret)\n",
        "library(quanteda)\n",
        "library(class)"
      ],
      "execution_count": null,
      "outputs": [
        {
          "output_type": "stream",
          "text": [
            "Loading required package: lattice\n",
            "\n",
            "Loading required package: ggplot2\n",
            "\n",
            "Warning message in system(\"timedatectl\", intern = TRUE):\n",
            "“running command 'timedatectl' had status 1”\n",
            "Package version: 2.1.2\n",
            "\n",
            "Parallel computing: 2 of 2 threads used.\n",
            "\n",
            "See https://quanteda.io for tutorials and examples.\n",
            "\n",
            "\n",
            "Attaching package: ‘quanteda’\n",
            "\n",
            "\n",
            "The following object is masked from ‘jupyter:irkernel’:\n",
            "\n",
            "    View\n",
            "\n",
            "\n",
            "The following object is masked from ‘package:utils’:\n",
            "\n",
            "    View\n",
            "\n",
            "\n"
          ],
          "name": "stderr"
        }
      ]
    },
    {
      "cell_type": "code",
      "metadata": {
        "id": "fwcshYd2ywiJ"
      },
      "source": [
        "test <- read.csv('test.csv')\n",
        "train <- read.csv('train.csv')\n",
        "stop_word <- read.csv('stop_words.txt')"
      ],
      "execution_count": null,
      "outputs": []
    },
    {
      "cell_type": "code",
      "metadata": {
        "id": "c6cqyz16vFcw"
      },
      "source": [
        "train.tokens <- tokens(train$Tweet, what = \"word\", \n",
        "                       remove_numbers = TRUE, remove_punct = TRUE,)\n",
        "\n",
        "# Lower case the tokens.\n",
        "train.tokens <- tokens_tolower(train.tokens)\n",
        "\n",
        "train.tokens <- tokens_select(train.tokens, stop_word, \n",
        "                              selection = \"remove\")\n",
        "\n",
        "\n",
        "# Perform stemming on the tokens.\n",
        "train.tokens <- tokens_wordstem(train.tokens, language = \"english\")\n",
        "\n",
        "# Create our first bag-of-words model.\n",
        "train.tokens.dfm <- dfm(train.tokens, tolower = FALSE)\n",
        "\n",
        "\n",
        "# Transform to a matrix and inspect.\n",
        "train.tokens.matrix <- as.matrix(train.tokens.dfm)\n",
        "train.labels <- train$Sentiment\n"
      ],
      "execution_count": null,
      "outputs": []
    },
    {
      "cell_type": "code",
      "metadata": {
        "id": "-pRQ7gJFzidP"
      },
      "source": [
        "\n",
        "train.token.dataframe <- as.data.frame(train.tokens.matrix)"
      ],
      "execution_count": null,
      "outputs": []
    },
    {
      "cell_type": "code",
      "metadata": {
        "colab": {
          "base_uri": "https://localhost:8080/",
          "height": 320
        },
        "id": "IarrRLeuz1Dw",
        "outputId": "954041b8-ce86-4407-be8c-03a373e40840"
      },
      "source": [
        "train.token.dataframe <- train.token.dataframe[,-1]\n",
        "head(train.token.dataframe)"
      ],
      "execution_count": null,
      "outputs": [
        {
          "output_type": "display_data",
          "data": {
            "text/plain": [
              "      from amsterdam to ewr 737-300 it-problem with the link #3thparti ⋯\n",
              "text1 1    1         1  1   1       0          0    0   0    0         ⋯\n",
              "text2 0    0         0  0   0       1          1    1   1    1         ⋯\n",
              "text3 0    0         1  0   0       0          0    1   0    0         ⋯\n",
              "text4 1    0         1  0   0       0          0    0   0    0         ⋯\n",
              "text5 0    0         0  0   0       0          0    0   0    0         ⋯\n",
              "text6 0    0         0  0   0       0          0    0   0    0         ⋯\n",
              "      @djq_kc @djimpact #fixthi metar #thismosaicnothappi 6'2\n",
              "text1 0       0         0       0     0                   0  \n",
              "text2 0       0         0       0     0                   0  \n",
              "text3 0       0         0       0     0                   0  \n",
              "text4 0       0         0       0     0                   0  \n",
              "text5 0       0         0       0     0                   0  \n",
              "text6 0       0         0       0     0                   0  \n",
              "      http://t.co/tsvibtvt8h bleh http://t.co/ypo7nyprzl #biztravel\n",
              "text1 0                      0    0                      0         \n",
              "text2 0                      0    0                      0         \n",
              "text3 0                      0    0                      0         \n",
              "text4 0                      0    0                      0         \n",
              "text5 0                      0    0                      0         \n",
              "text6 0                      0    0                      0         "
            ],
            "text/latex": "A data.frame: 6 × 11246\n\\begin{tabular}{r|lllllllllllllllllllll}\n  & from & amsterdam & to & ewr & 737-300 & it-problem & with & the & link & \\#3thparti & ⋯ & @djq\\_kc & @djimpact & \\#fixthi & metar & \\#thismosaicnothappi & 6'2 & http://t.co/tsvibtvt8h & bleh & http://t.co/ypo7nyprzl & \\#biztravel\\\\\n  & <dbl> & <dbl> & <dbl> & <dbl> & <dbl> & <dbl> & <dbl> & <dbl> & <dbl> & <dbl> & ⋯ & <dbl> & <dbl> & <dbl> & <dbl> & <dbl> & <dbl> & <dbl> & <dbl> & <dbl> & <dbl>\\\\\n\\hline\n\ttext1 & 1 & 1 & 1 & 1 & 1 & 0 & 0 & 0 & 0 & 0 & ⋯ & 0 & 0 & 0 & 0 & 0 & 0 & 0 & 0 & 0 & 0\\\\\n\ttext2 & 0 & 0 & 0 & 0 & 0 & 1 & 1 & 1 & 1 & 1 & ⋯ & 0 & 0 & 0 & 0 & 0 & 0 & 0 & 0 & 0 & 0\\\\\n\ttext3 & 0 & 0 & 1 & 0 & 0 & 0 & 0 & 1 & 0 & 0 & ⋯ & 0 & 0 & 0 & 0 & 0 & 0 & 0 & 0 & 0 & 0\\\\\n\ttext4 & 1 & 0 & 1 & 0 & 0 & 0 & 0 & 0 & 0 & 0 & ⋯ & 0 & 0 & 0 & 0 & 0 & 0 & 0 & 0 & 0 & 0\\\\\n\ttext5 & 0 & 0 & 0 & 0 & 0 & 0 & 0 & 0 & 0 & 0 & ⋯ & 0 & 0 & 0 & 0 & 0 & 0 & 0 & 0 & 0 & 0\\\\\n\ttext6 & 0 & 0 & 0 & 0 & 0 & 0 & 0 & 0 & 0 & 0 & ⋯ & 0 & 0 & 0 & 0 & 0 & 0 & 0 & 0 & 0 & 0\\\\\n\\end{tabular}\n",
            "text/markdown": "\nA data.frame: 6 × 11246\n\n| <!--/--> | from &lt;dbl&gt; | amsterdam &lt;dbl&gt; | to &lt;dbl&gt; | ewr &lt;dbl&gt; | 737-300 &lt;dbl&gt; | it-problem &lt;dbl&gt; | with &lt;dbl&gt; | the &lt;dbl&gt; | link &lt;dbl&gt; | #3thparti &lt;dbl&gt; | ⋯ ⋯ | @djq_kc &lt;dbl&gt; | @djimpact &lt;dbl&gt; | #fixthi &lt;dbl&gt; | metar &lt;dbl&gt; | #thismosaicnothappi &lt;dbl&gt; | 6'2 &lt;dbl&gt; | http://t.co/tsvibtvt8h &lt;dbl&gt; | bleh &lt;dbl&gt; | http://t.co/ypo7nyprzl &lt;dbl&gt; | #biztravel &lt;dbl&gt; |\n|---|---|---|---|---|---|---|---|---|---|---|---|---|---|---|---|---|---|---|---|---|---|\n| text1 | 1 | 1 | 1 | 1 | 1 | 0 | 0 | 0 | 0 | 0 | ⋯ | 0 | 0 | 0 | 0 | 0 | 0 | 0 | 0 | 0 | 0 |\n| text2 | 0 | 0 | 0 | 0 | 0 | 1 | 1 | 1 | 1 | 1 | ⋯ | 0 | 0 | 0 | 0 | 0 | 0 | 0 | 0 | 0 | 0 |\n| text3 | 0 | 0 | 1 | 0 | 0 | 0 | 0 | 1 | 0 | 0 | ⋯ | 0 | 0 | 0 | 0 | 0 | 0 | 0 | 0 | 0 | 0 |\n| text4 | 1 | 0 | 1 | 0 | 0 | 0 | 0 | 0 | 0 | 0 | ⋯ | 0 | 0 | 0 | 0 | 0 | 0 | 0 | 0 | 0 | 0 |\n| text5 | 0 | 0 | 0 | 0 | 0 | 0 | 0 | 0 | 0 | 0 | ⋯ | 0 | 0 | 0 | 0 | 0 | 0 | 0 | 0 | 0 | 0 |\n| text6 | 0 | 0 | 0 | 0 | 0 | 0 | 0 | 0 | 0 | 0 | ⋯ | 0 | 0 | 0 | 0 | 0 | 0 | 0 | 0 | 0 | 0 |\n\n",
            "text/html": [
              "<table class=\"dataframe\">\n",
              "<caption>A data.frame: 6 × 11246</caption>\n",
              "<thead>\n",
              "\t<tr><th></th><th scope=col>from</th><th scope=col>amsterdam</th><th scope=col>to</th><th scope=col>ewr</th><th scope=col>737-300</th><th scope=col>it-problem</th><th scope=col>with</th><th scope=col>the</th><th scope=col>link</th><th scope=col>#3thparti</th><th scope=col>⋯</th><th scope=col>@djq_kc</th><th scope=col>@djimpact</th><th scope=col>#fixthi</th><th scope=col>metar</th><th scope=col>#thismosaicnothappi</th><th scope=col>6'2</th><th scope=col>http://t.co/tsvibtvt8h</th><th scope=col>bleh</th><th scope=col>http://t.co/ypo7nyprzl</th><th scope=col>#biztravel</th></tr>\n",
              "\t<tr><th></th><th scope=col>&lt;dbl&gt;</th><th scope=col>&lt;dbl&gt;</th><th scope=col>&lt;dbl&gt;</th><th scope=col>&lt;dbl&gt;</th><th scope=col>&lt;dbl&gt;</th><th scope=col>&lt;dbl&gt;</th><th scope=col>&lt;dbl&gt;</th><th scope=col>&lt;dbl&gt;</th><th scope=col>&lt;dbl&gt;</th><th scope=col>&lt;dbl&gt;</th><th scope=col>⋯</th><th scope=col>&lt;dbl&gt;</th><th scope=col>&lt;dbl&gt;</th><th scope=col>&lt;dbl&gt;</th><th scope=col>&lt;dbl&gt;</th><th scope=col>&lt;dbl&gt;</th><th scope=col>&lt;dbl&gt;</th><th scope=col>&lt;dbl&gt;</th><th scope=col>&lt;dbl&gt;</th><th scope=col>&lt;dbl&gt;</th><th scope=col>&lt;dbl&gt;</th></tr>\n",
              "</thead>\n",
              "<tbody>\n",
              "\t<tr><th scope=row>text1</th><td>1</td><td>1</td><td>1</td><td>1</td><td>1</td><td>0</td><td>0</td><td>0</td><td>0</td><td>0</td><td>⋯</td><td>0</td><td>0</td><td>0</td><td>0</td><td>0</td><td>0</td><td>0</td><td>0</td><td>0</td><td>0</td></tr>\n",
              "\t<tr><th scope=row>text2</th><td>0</td><td>0</td><td>0</td><td>0</td><td>0</td><td>1</td><td>1</td><td>1</td><td>1</td><td>1</td><td>⋯</td><td>0</td><td>0</td><td>0</td><td>0</td><td>0</td><td>0</td><td>0</td><td>0</td><td>0</td><td>0</td></tr>\n",
              "\t<tr><th scope=row>text3</th><td>0</td><td>0</td><td>1</td><td>0</td><td>0</td><td>0</td><td>0</td><td>1</td><td>0</td><td>0</td><td>⋯</td><td>0</td><td>0</td><td>0</td><td>0</td><td>0</td><td>0</td><td>0</td><td>0</td><td>0</td><td>0</td></tr>\n",
              "\t<tr><th scope=row>text4</th><td>1</td><td>0</td><td>1</td><td>0</td><td>0</td><td>0</td><td>0</td><td>0</td><td>0</td><td>0</td><td>⋯</td><td>0</td><td>0</td><td>0</td><td>0</td><td>0</td><td>0</td><td>0</td><td>0</td><td>0</td><td>0</td></tr>\n",
              "\t<tr><th scope=row>text5</th><td>0</td><td>0</td><td>0</td><td>0</td><td>0</td><td>0</td><td>0</td><td>0</td><td>0</td><td>0</td><td>⋯</td><td>0</td><td>0</td><td>0</td><td>0</td><td>0</td><td>0</td><td>0</td><td>0</td><td>0</td><td>0</td></tr>\n",
              "\t<tr><th scope=row>text6</th><td>0</td><td>0</td><td>0</td><td>0</td><td>0</td><td>0</td><td>0</td><td>0</td><td>0</td><td>0</td><td>⋯</td><td>0</td><td>0</td><td>0</td><td>0</td><td>0</td><td>0</td><td>0</td><td>0</td><td>0</td><td>0</td></tr>\n",
              "</tbody>\n",
              "</table>\n"
            ]
          },
          "metadata": {
            "tags": []
          }
        }
      ]
    },
    {
      "cell_type": "code",
      "metadata": {
        "id": "aWkay4K8yArF"
      },
      "source": [
        "\n",
        "test.tokens <- tokens(test$Tweet, what = \"word\", \n",
        "                       remove_numbers = TRUE, remove_punct = TRUE,)\n",
        "\n",
        "# Lower case the tokens.\n",
        "test.tokens <- tokens_tolower(test.tokens)\n",
        "\n",
        "test.tokens <- tokens_select(test.tokens, stop_word, \n",
        "                              selection = \"remove\")\n",
        "\n",
        "\n",
        "# Perform stemming on the tokens.\n",
        "test.tokens <- tokens_wordstem(test.tokens, language = \"english\")\n",
        "\n",
        "# Create our first bag-of-words model.\n",
        "test.tokens.dfm <- dfm(test.tokens, tolower = FALSE)\n",
        "\n",
        "\n",
        "# Transform to a matrix and inspect.\n",
        "test.tokens.matrix <- as.matrix(test.tokens.dfm)\n",
        "test.labels <- test$Sentiment\n"
      ],
      "execution_count": null,
      "outputs": []
    },
    {
      "cell_type": "code",
      "metadata": {
        "colab": {
          "base_uri": "https://localhost:8080/",
          "height": 320
        },
        "id": "W8iMiud7vbTV",
        "outputId": "9211590f-2f51-44f1-eb0c-bac569a8f8af"
      },
      "source": [
        "test.tokens.dataframe <- as.data.frame(test.tokens.matrix)\n",
        "head(test.tokens.dataframe)"
      ],
      "execution_count": null,
      "outputs": [
        {
          "output_type": "display_data",
          "data": {
            "text/plain": [
              "      @virginamerica to jump into the dallas-austin market @dalla_news\n",
              "text1 1              1  1    1    1   1             1      1          \n",
              "text2 0              1  0    0    0   0             0      0          \n",
              "text3 0              0  0    0    0   0             0      0          \n",
              "text4 0              2  0    0    0   0             0      0          \n",
              "text5 0              0  0    0    0   0             0      0          \n",
              "text6 0              1  0    0    0   0             0      0          \n",
              "      http://t.co/ewwgi97gdx @americanair ⋯ #impact #busad #thinkbus\n",
              "text1 1                      0            ⋯ 0       0      0        \n",
              "text2 0                      1            ⋯ 0       0      0        \n",
              "text3 0                      0            ⋯ 0       0      0        \n",
              "text4 0                      0            ⋯ 0       0      0        \n",
              "text5 0                      0            ⋯ 0       0      0        \n",
              "text6 0                      0            ⋯ 0       0      0        \n",
              "      @belfastairport http://t.co/avbdstjuj westchest cti\n",
              "text1 0               0                     0         0  \n",
              "text2 0               0                     0         0  \n",
              "text3 0               0                     0         0  \n",
              "text4 0               0                     0         0  \n",
              "text5 0               0                     0         0  \n",
              "text6 0               0                     0         0  \n",
              "      http://t.co/ji7xks2jkk reassign #fuckoff\n",
              "text1 0                      0        0       \n",
              "text2 0                      0        0       \n",
              "text3 0                      0        0       \n",
              "text4 0                      0        0       \n",
              "text5 0                      0        0       \n",
              "text6 0                      0        0       "
            ],
            "text/latex": "A data.frame: 6 × 4927\n\\begin{tabular}{r|lllllllllllllllllllll}\n  & @virginamerica & to & jump & into & the & dallas-austin & market & @dalla\\_news & http://t.co/ewwgi97gdx & @americanair & ⋯ & \\#impact & \\#busad & \\#thinkbus & @belfastairport & http://t.co/avbdstjuj & westchest & cti & http://t.co/ji7xks2jkk & reassign & \\#fuckoff\\\\\n  & <dbl> & <dbl> & <dbl> & <dbl> & <dbl> & <dbl> & <dbl> & <dbl> & <dbl> & <dbl> & ⋯ & <dbl> & <dbl> & <dbl> & <dbl> & <dbl> & <dbl> & <dbl> & <dbl> & <dbl> & <dbl>\\\\\n\\hline\n\ttext1 & 1 & 1 & 1 & 1 & 1 & 1 & 1 & 1 & 1 & 0 & ⋯ & 0 & 0 & 0 & 0 & 0 & 0 & 0 & 0 & 0 & 0\\\\\n\ttext2 & 0 & 1 & 0 & 0 & 0 & 0 & 0 & 0 & 0 & 1 & ⋯ & 0 & 0 & 0 & 0 & 0 & 0 & 0 & 0 & 0 & 0\\\\\n\ttext3 & 0 & 0 & 0 & 0 & 0 & 0 & 0 & 0 & 0 & 0 & ⋯ & 0 & 0 & 0 & 0 & 0 & 0 & 0 & 0 & 0 & 0\\\\\n\ttext4 & 0 & 2 & 0 & 0 & 0 & 0 & 0 & 0 & 0 & 0 & ⋯ & 0 & 0 & 0 & 0 & 0 & 0 & 0 & 0 & 0 & 0\\\\\n\ttext5 & 0 & 0 & 0 & 0 & 0 & 0 & 0 & 0 & 0 & 0 & ⋯ & 0 & 0 & 0 & 0 & 0 & 0 & 0 & 0 & 0 & 0\\\\\n\ttext6 & 0 & 1 & 0 & 0 & 0 & 0 & 0 & 0 & 0 & 0 & ⋯ & 0 & 0 & 0 & 0 & 0 & 0 & 0 & 0 & 0 & 0\\\\\n\\end{tabular}\n",
            "text/markdown": "\nA data.frame: 6 × 4927\n\n| <!--/--> | @virginamerica &lt;dbl&gt; | to &lt;dbl&gt; | jump &lt;dbl&gt; | into &lt;dbl&gt; | the &lt;dbl&gt; | dallas-austin &lt;dbl&gt; | market &lt;dbl&gt; | @dalla_news &lt;dbl&gt; | http://t.co/ewwgi97gdx &lt;dbl&gt; | @americanair &lt;dbl&gt; | ⋯ ⋯ | #impact &lt;dbl&gt; | #busad &lt;dbl&gt; | #thinkbus &lt;dbl&gt; | @belfastairport &lt;dbl&gt; | http://t.co/avbdstjuj &lt;dbl&gt; | westchest &lt;dbl&gt; | cti &lt;dbl&gt; | http://t.co/ji7xks2jkk &lt;dbl&gt; | reassign &lt;dbl&gt; | #fuckoff &lt;dbl&gt; |\n|---|---|---|---|---|---|---|---|---|---|---|---|---|---|---|---|---|---|---|---|---|---|\n| text1 | 1 | 1 | 1 | 1 | 1 | 1 | 1 | 1 | 1 | 0 | ⋯ | 0 | 0 | 0 | 0 | 0 | 0 | 0 | 0 | 0 | 0 |\n| text2 | 0 | 1 | 0 | 0 | 0 | 0 | 0 | 0 | 0 | 1 | ⋯ | 0 | 0 | 0 | 0 | 0 | 0 | 0 | 0 | 0 | 0 |\n| text3 | 0 | 0 | 0 | 0 | 0 | 0 | 0 | 0 | 0 | 0 | ⋯ | 0 | 0 | 0 | 0 | 0 | 0 | 0 | 0 | 0 | 0 |\n| text4 | 0 | 2 | 0 | 0 | 0 | 0 | 0 | 0 | 0 | 0 | ⋯ | 0 | 0 | 0 | 0 | 0 | 0 | 0 | 0 | 0 | 0 |\n| text5 | 0 | 0 | 0 | 0 | 0 | 0 | 0 | 0 | 0 | 0 | ⋯ | 0 | 0 | 0 | 0 | 0 | 0 | 0 | 0 | 0 | 0 |\n| text6 | 0 | 1 | 0 | 0 | 0 | 0 | 0 | 0 | 0 | 0 | ⋯ | 0 | 0 | 0 | 0 | 0 | 0 | 0 | 0 | 0 | 0 |\n\n",
            "text/html": [
              "<table class=\"dataframe\">\n",
              "<caption>A data.frame: 6 × 4927</caption>\n",
              "<thead>\n",
              "\t<tr><th></th><th scope=col>@virginamerica</th><th scope=col>to</th><th scope=col>jump</th><th scope=col>into</th><th scope=col>the</th><th scope=col>dallas-austin</th><th scope=col>market</th><th scope=col>@dalla_news</th><th scope=col>http://t.co/ewwgi97gdx</th><th scope=col>@americanair</th><th scope=col>⋯</th><th scope=col>#impact</th><th scope=col>#busad</th><th scope=col>#thinkbus</th><th scope=col>@belfastairport</th><th scope=col>http://t.co/avbdstjuj</th><th scope=col>westchest</th><th scope=col>cti</th><th scope=col>http://t.co/ji7xks2jkk</th><th scope=col>reassign</th><th scope=col>#fuckoff</th></tr>\n",
              "\t<tr><th></th><th scope=col>&lt;dbl&gt;</th><th scope=col>&lt;dbl&gt;</th><th scope=col>&lt;dbl&gt;</th><th scope=col>&lt;dbl&gt;</th><th scope=col>&lt;dbl&gt;</th><th scope=col>&lt;dbl&gt;</th><th scope=col>&lt;dbl&gt;</th><th scope=col>&lt;dbl&gt;</th><th scope=col>&lt;dbl&gt;</th><th scope=col>&lt;dbl&gt;</th><th scope=col>⋯</th><th scope=col>&lt;dbl&gt;</th><th scope=col>&lt;dbl&gt;</th><th scope=col>&lt;dbl&gt;</th><th scope=col>&lt;dbl&gt;</th><th scope=col>&lt;dbl&gt;</th><th scope=col>&lt;dbl&gt;</th><th scope=col>&lt;dbl&gt;</th><th scope=col>&lt;dbl&gt;</th><th scope=col>&lt;dbl&gt;</th><th scope=col>&lt;dbl&gt;</th></tr>\n",
              "</thead>\n",
              "<tbody>\n",
              "\t<tr><th scope=row>text1</th><td>1</td><td>1</td><td>1</td><td>1</td><td>1</td><td>1</td><td>1</td><td>1</td><td>1</td><td>0</td><td>⋯</td><td>0</td><td>0</td><td>0</td><td>0</td><td>0</td><td>0</td><td>0</td><td>0</td><td>0</td><td>0</td></tr>\n",
              "\t<tr><th scope=row>text2</th><td>0</td><td>1</td><td>0</td><td>0</td><td>0</td><td>0</td><td>0</td><td>0</td><td>0</td><td>1</td><td>⋯</td><td>0</td><td>0</td><td>0</td><td>0</td><td>0</td><td>0</td><td>0</td><td>0</td><td>0</td><td>0</td></tr>\n",
              "\t<tr><th scope=row>text3</th><td>0</td><td>0</td><td>0</td><td>0</td><td>0</td><td>0</td><td>0</td><td>0</td><td>0</td><td>0</td><td>⋯</td><td>0</td><td>0</td><td>0</td><td>0</td><td>0</td><td>0</td><td>0</td><td>0</td><td>0</td><td>0</td></tr>\n",
              "\t<tr><th scope=row>text4</th><td>0</td><td>2</td><td>0</td><td>0</td><td>0</td><td>0</td><td>0</td><td>0</td><td>0</td><td>0</td><td>⋯</td><td>0</td><td>0</td><td>0</td><td>0</td><td>0</td><td>0</td><td>0</td><td>0</td><td>0</td><td>0</td></tr>\n",
              "\t<tr><th scope=row>text5</th><td>0</td><td>0</td><td>0</td><td>0</td><td>0</td><td>0</td><td>0</td><td>0</td><td>0</td><td>0</td><td>⋯</td><td>0</td><td>0</td><td>0</td><td>0</td><td>0</td><td>0</td><td>0</td><td>0</td><td>0</td><td>0</td></tr>\n",
              "\t<tr><th scope=row>text6</th><td>0</td><td>1</td><td>0</td><td>0</td><td>0</td><td>0</td><td>0</td><td>0</td><td>0</td><td>0</td><td>⋯</td><td>0</td><td>0</td><td>0</td><td>0</td><td>0</td><td>0</td><td>0</td><td>0</td><td>0</td><td>0</td></tr>\n",
              "</tbody>\n",
              "</table>\n"
            ]
          },
          "metadata": {
            "tags": []
          }
        }
      ]
    },
    {
      "cell_type": "code",
      "metadata": {
        "colab": {
          "base_uri": "https://localhost:8080/",
          "height": 51
        },
        "id": "zdHuteOZ03pV",
        "outputId": "210a9961-5406-44d0-c862-df7c546d3475"
      },
      "source": [
        "dim(train.token.dataframe)\n",
        "dim(test.tokens.dataframe)\n"
      ],
      "execution_count": null,
      "outputs": [
        {
          "output_type": "display_data",
          "data": {
            "text/plain": [
              "[1] 11680 11246"
            ],
            "text/latex": "\\begin{enumerate*}\n\\item 11680\n\\item 11246\n\\end{enumerate*}\n",
            "text/markdown": "1. 11680\n2. 11246\n\n\n",
            "text/html": [
              "<style>\n",
              ".list-inline {list-style: none; margin:0; padding: 0}\n",
              ".list-inline>li {display: inline-block}\n",
              ".list-inline>li:not(:last-child)::after {content: \"\\00b7\"; padding: 0 .5ex}\n",
              "</style>\n",
              "<ol class=list-inline><li>11680</li><li>11246</li></ol>\n"
            ]
          },
          "metadata": {
            "tags": []
          }
        },
        {
          "output_type": "display_data",
          "data": {
            "text/plain": [
              "[1] 2921 4927"
            ],
            "text/latex": "\\begin{enumerate*}\n\\item 2921\n\\item 4927\n\\end{enumerate*}\n",
            "text/markdown": "1. 2921\n2. 4927\n\n\n",
            "text/html": [
              "<style>\n",
              ".list-inline {list-style: none; margin:0; padding: 0}\n",
              ".list-inline>li {display: inline-block}\n",
              ".list-inline>li:not(:last-child)::after {content: \"\\00b7\"; padding: 0 .5ex}\n",
              "</style>\n",
              "<ol class=list-inline><li>2921</li><li>4927</li></ol>\n"
            ]
          },
          "metadata": {
            "tags": []
          }
        }
      ]
    },
    {
      "cell_type": "code",
      "metadata": {
        "colab": {
          "base_uri": "https://localhost:8080/",
          "height": 51
        },
        "id": "wm5vam711z6R",
        "outputId": "aa355c5d-128a-4d0e-b75b-75afd5ea2acc"
      },
      "source": [
        "\n",
        "train.token.dataframe <- train.token.dataframe[,intersect(colnames(test.tokens.dataframe), colnames(train.token.dataframe))]\n",
        "test.tokens.dataframe <- test.tokens.dataframe[,intersect(colnames(test.tokens.dataframe),colnames(train.token.dataframe))]\n",
        "\n",
        "dim(train.token.dataframe)\n",
        "dim(test.tokens.dataframe)\n"
      ],
      "execution_count": null,
      "outputs": [
        {
          "output_type": "display_data",
          "data": {
            "text/plain": [
              "[1] 11680  3300"
            ],
            "text/latex": "\\begin{enumerate*}\n\\item 11680\n\\item 3300\n\\end{enumerate*}\n",
            "text/markdown": "1. 11680\n2. 3300\n\n\n",
            "text/html": [
              "<style>\n",
              ".list-inline {list-style: none; margin:0; padding: 0}\n",
              ".list-inline>li {display: inline-block}\n",
              ".list-inline>li:not(:last-child)::after {content: \"\\00b7\"; padding: 0 .5ex}\n",
              "</style>\n",
              "<ol class=list-inline><li>11680</li><li>3300</li></ol>\n"
            ]
          },
          "metadata": {
            "tags": []
          }
        },
        {
          "output_type": "display_data",
          "data": {
            "text/plain": [
              "[1] 2921 3300"
            ],
            "text/latex": "\\begin{enumerate*}\n\\item 2921\n\\item 3300\n\\end{enumerate*}\n",
            "text/markdown": "1. 2921\n2. 3300\n\n\n",
            "text/html": [
              "<style>\n",
              ".list-inline {list-style: none; margin:0; padding: 0}\n",
              ".list-inline>li {display: inline-block}\n",
              ".list-inline>li:not(:last-child)::after {content: \"\\00b7\"; padding: 0 .5ex}\n",
              "</style>\n",
              "<ol class=list-inline><li>2921</li><li>3300</li></ol>\n"
            ]
          },
          "metadata": {
            "tags": []
          }
        }
      ]
    },
    {
      "cell_type": "code",
      "metadata": {
        "colab": {
          "base_uri": "https://localhost:8080/",
          "height": 320
        },
        "id": "BJMVWVhH2Hag",
        "outputId": "7f68b80e-cb5f-481f-a263-f2a268787920"
      },
      "source": [
        "head(train.token.dataframe)"
      ],
      "execution_count": null,
      "outputs": [
        {
          "output_type": "display_data",
          "data": {
            "text/plain": [
              "      @virginamerica to jump into the dallas-austin market @dalla_news\n",
              "text1 0              1  0    0    0   0             0      0          \n",
              "text2 0              0  0    0    1   0             0      0          \n",
              "text3 0              1  0    0    1   0             0      0          \n",
              "text4 0              1  0    0    0   0             0      0          \n",
              "text5 0              0  0    0    0   0             0      0          \n",
              "text6 0              0  0    0    0   0             0      0          \n",
              "      @americanair chicago ⋯ began advis view downtown los rain mountain\n",
              "text1 0            0       ⋯ 0     0     0    0        0   0    0       \n",
              "text2 0            0       ⋯ 0     0     0    0        0   0    0       \n",
              "text3 0            0       ⋯ 0     0     0    0        0   0    0       \n",
              "text4 1            0       ⋯ 0     0     0    0        0   0    0       \n",
              "text5 0            0       ⋯ 0     0     0    0        0   0    0       \n",
              "text6 1            0       ⋯ 0     0     0    0        0   0    0       \n",
              "      belfast westchest reassign\n",
              "text1 0       0         0       \n",
              "text2 0       0         0       \n",
              "text3 0       0         0       \n",
              "text4 0       0         0       \n",
              "text5 0       0         0       \n",
              "text6 0       0         0       "
            ],
            "text/latex": "A data.frame: 6 × 3300\n\\begin{tabular}{r|lllllllllllllllllllll}\n  & @virginamerica & to & jump & into & the & dallas-austin & market & @dalla\\_news & @americanair & chicago & ⋯ & began & advis & view & downtown & los & rain & mountain & belfast & westchest & reassign\\\\\n  & <dbl> & <dbl> & <dbl> & <dbl> & <dbl> & <dbl> & <dbl> & <dbl> & <dbl> & <dbl> & ⋯ & <dbl> & <dbl> & <dbl> & <dbl> & <dbl> & <dbl> & <dbl> & <dbl> & <dbl> & <dbl>\\\\\n\\hline\n\ttext1 & 0 & 1 & 0 & 0 & 0 & 0 & 0 & 0 & 0 & 0 & ⋯ & 0 & 0 & 0 & 0 & 0 & 0 & 0 & 0 & 0 & 0\\\\\n\ttext2 & 0 & 0 & 0 & 0 & 1 & 0 & 0 & 0 & 0 & 0 & ⋯ & 0 & 0 & 0 & 0 & 0 & 0 & 0 & 0 & 0 & 0\\\\\n\ttext3 & 0 & 1 & 0 & 0 & 1 & 0 & 0 & 0 & 0 & 0 & ⋯ & 0 & 0 & 0 & 0 & 0 & 0 & 0 & 0 & 0 & 0\\\\\n\ttext4 & 0 & 1 & 0 & 0 & 0 & 0 & 0 & 0 & 1 & 0 & ⋯ & 0 & 0 & 0 & 0 & 0 & 0 & 0 & 0 & 0 & 0\\\\\n\ttext5 & 0 & 0 & 0 & 0 & 0 & 0 & 0 & 0 & 0 & 0 & ⋯ & 0 & 0 & 0 & 0 & 0 & 0 & 0 & 0 & 0 & 0\\\\\n\ttext6 & 0 & 0 & 0 & 0 & 0 & 0 & 0 & 0 & 1 & 0 & ⋯ & 0 & 0 & 0 & 0 & 0 & 0 & 0 & 0 & 0 & 0\\\\\n\\end{tabular}\n",
            "text/markdown": "\nA data.frame: 6 × 3300\n\n| <!--/--> | @virginamerica &lt;dbl&gt; | to &lt;dbl&gt; | jump &lt;dbl&gt; | into &lt;dbl&gt; | the &lt;dbl&gt; | dallas-austin &lt;dbl&gt; | market &lt;dbl&gt; | @dalla_news &lt;dbl&gt; | @americanair &lt;dbl&gt; | chicago &lt;dbl&gt; | ⋯ ⋯ | began &lt;dbl&gt; | advis &lt;dbl&gt; | view &lt;dbl&gt; | downtown &lt;dbl&gt; | los &lt;dbl&gt; | rain &lt;dbl&gt; | mountain &lt;dbl&gt; | belfast &lt;dbl&gt; | westchest &lt;dbl&gt; | reassign &lt;dbl&gt; |\n|---|---|---|---|---|---|---|---|---|---|---|---|---|---|---|---|---|---|---|---|---|---|\n| text1 | 0 | 1 | 0 | 0 | 0 | 0 | 0 | 0 | 0 | 0 | ⋯ | 0 | 0 | 0 | 0 | 0 | 0 | 0 | 0 | 0 | 0 |\n| text2 | 0 | 0 | 0 | 0 | 1 | 0 | 0 | 0 | 0 | 0 | ⋯ | 0 | 0 | 0 | 0 | 0 | 0 | 0 | 0 | 0 | 0 |\n| text3 | 0 | 1 | 0 | 0 | 1 | 0 | 0 | 0 | 0 | 0 | ⋯ | 0 | 0 | 0 | 0 | 0 | 0 | 0 | 0 | 0 | 0 |\n| text4 | 0 | 1 | 0 | 0 | 0 | 0 | 0 | 0 | 1 | 0 | ⋯ | 0 | 0 | 0 | 0 | 0 | 0 | 0 | 0 | 0 | 0 |\n| text5 | 0 | 0 | 0 | 0 | 0 | 0 | 0 | 0 | 0 | 0 | ⋯ | 0 | 0 | 0 | 0 | 0 | 0 | 0 | 0 | 0 | 0 |\n| text6 | 0 | 0 | 0 | 0 | 0 | 0 | 0 | 0 | 1 | 0 | ⋯ | 0 | 0 | 0 | 0 | 0 | 0 | 0 | 0 | 0 | 0 |\n\n",
            "text/html": [
              "<table class=\"dataframe\">\n",
              "<caption>A data.frame: 6 × 3300</caption>\n",
              "<thead>\n",
              "\t<tr><th></th><th scope=col>@virginamerica</th><th scope=col>to</th><th scope=col>jump</th><th scope=col>into</th><th scope=col>the</th><th scope=col>dallas-austin</th><th scope=col>market</th><th scope=col>@dalla_news</th><th scope=col>@americanair</th><th scope=col>chicago</th><th scope=col>⋯</th><th scope=col>began</th><th scope=col>advis</th><th scope=col>view</th><th scope=col>downtown</th><th scope=col>los</th><th scope=col>rain</th><th scope=col>mountain</th><th scope=col>belfast</th><th scope=col>westchest</th><th scope=col>reassign</th></tr>\n",
              "\t<tr><th></th><th scope=col>&lt;dbl&gt;</th><th scope=col>&lt;dbl&gt;</th><th scope=col>&lt;dbl&gt;</th><th scope=col>&lt;dbl&gt;</th><th scope=col>&lt;dbl&gt;</th><th scope=col>&lt;dbl&gt;</th><th scope=col>&lt;dbl&gt;</th><th scope=col>&lt;dbl&gt;</th><th scope=col>&lt;dbl&gt;</th><th scope=col>&lt;dbl&gt;</th><th scope=col>⋯</th><th scope=col>&lt;dbl&gt;</th><th scope=col>&lt;dbl&gt;</th><th scope=col>&lt;dbl&gt;</th><th scope=col>&lt;dbl&gt;</th><th scope=col>&lt;dbl&gt;</th><th scope=col>&lt;dbl&gt;</th><th scope=col>&lt;dbl&gt;</th><th scope=col>&lt;dbl&gt;</th><th scope=col>&lt;dbl&gt;</th><th scope=col>&lt;dbl&gt;</th></tr>\n",
              "</thead>\n",
              "<tbody>\n",
              "\t<tr><th scope=row>text1</th><td>0</td><td>1</td><td>0</td><td>0</td><td>0</td><td>0</td><td>0</td><td>0</td><td>0</td><td>0</td><td>⋯</td><td>0</td><td>0</td><td>0</td><td>0</td><td>0</td><td>0</td><td>0</td><td>0</td><td>0</td><td>0</td></tr>\n",
              "\t<tr><th scope=row>text2</th><td>0</td><td>0</td><td>0</td><td>0</td><td>1</td><td>0</td><td>0</td><td>0</td><td>0</td><td>0</td><td>⋯</td><td>0</td><td>0</td><td>0</td><td>0</td><td>0</td><td>0</td><td>0</td><td>0</td><td>0</td><td>0</td></tr>\n",
              "\t<tr><th scope=row>text3</th><td>0</td><td>1</td><td>0</td><td>0</td><td>1</td><td>0</td><td>0</td><td>0</td><td>0</td><td>0</td><td>⋯</td><td>0</td><td>0</td><td>0</td><td>0</td><td>0</td><td>0</td><td>0</td><td>0</td><td>0</td><td>0</td></tr>\n",
              "\t<tr><th scope=row>text4</th><td>0</td><td>1</td><td>0</td><td>0</td><td>0</td><td>0</td><td>0</td><td>0</td><td>1</td><td>0</td><td>⋯</td><td>0</td><td>0</td><td>0</td><td>0</td><td>0</td><td>0</td><td>0</td><td>0</td><td>0</td><td>0</td></tr>\n",
              "\t<tr><th scope=row>text5</th><td>0</td><td>0</td><td>0</td><td>0</td><td>0</td><td>0</td><td>0</td><td>0</td><td>0</td><td>0</td><td>⋯</td><td>0</td><td>0</td><td>0</td><td>0</td><td>0</td><td>0</td><td>0</td><td>0</td><td>0</td><td>0</td></tr>\n",
              "\t<tr><th scope=row>text6</th><td>0</td><td>0</td><td>0</td><td>0</td><td>0</td><td>0</td><td>0</td><td>0</td><td>1</td><td>0</td><td>⋯</td><td>0</td><td>0</td><td>0</td><td>0</td><td>0</td><td>0</td><td>0</td><td>0</td><td>0</td><td>0</td></tr>\n",
              "</tbody>\n",
              "</table>\n"
            ]
          },
          "metadata": {
            "tags": []
          }
        }
      ]
    },
    {
      "cell_type": "code",
      "metadata": {
        "id": "t_Ai3mqT5OTQ"
      },
      "source": [
        "normalze <- function(x)\n",
        "{\n",
        "  return((x-min(x))/(max(x)-min(x)))\n",
        "}\n",
        "\n",
        "train_n <- as.data.frame(lapply(train.token.df, normalze))\n",
        "test_n <- as.data.frame(lapply(test.token.df, normalze))"
      ],
      "execution_count": null,
      "outputs": []
    },
    {
      "cell_type": "code",
      "metadata": {
        "id": "LQaBP-OS9rFa"
      },
      "source": [
        "pred <- knn(test = test.tokens.dataframe, train= train.token.dataframe, k = 87, cl = train.labels)"
      ],
      "execution_count": null,
      "outputs": []
    },
    {
      "cell_type": "code",
      "metadata": {
        "id": "1KOgmKRj0zJT"
      },
      "source": [
        ""
      ],
      "execution_count": null,
      "outputs": []
    }
  ]
}