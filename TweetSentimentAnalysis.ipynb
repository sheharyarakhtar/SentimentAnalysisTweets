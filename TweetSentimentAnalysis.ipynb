{
  "nbformat": 4,
  "nbformat_minor": 0,
  "metadata": {
    "colab": {
      "name": "TweetSentimentAnalysis.ipynb",
      "provenance": [],
      "collapsed_sections": [],
      "authorship_tag": "ABX9TyNZXIq0I1TaUSFuaT7vMGLP",
      "include_colab_link": true
    },
    "kernelspec": {
      "name": "ir",
      "display_name": "R"
    },
    "language_info": {
      "name": "R"
    },
    "accelerator": "GPU"
  },
  "cells": [
    {
      "cell_type": "markdown",
      "metadata": {
        "id": "view-in-github",
        "colab_type": "text"
      },
      "source": [
        "<a href=\"https://colab.research.google.com/github/sheharyarakhtar/SentimentAnalysisTweets/blob/main/TweetSentimentAnalysis.ipynb\" target=\"_parent\"><img src=\"https://colab.research.google.com/assets/colab-badge.svg\" alt=\"Open In Colab\"/></a>"
      ]
    },
    {
      "cell_type": "code",
      "metadata": {
        "colab": {
          "base_uri": "https://localhost:8080/"
        },
        "id": "DZvK0THWr2RF",
        "outputId": "453908a7-78ad-4022-a42b-fe967cc8cc74"
      },
      "source": [
        "install.packages('class')\n",
        "install.packages('quanteda')\n",
        "install.packages('caret')\n",
        "library(caret)\n",
        "library(quanteda)\n",
        "library(class)"
      ],
      "execution_count": 1,
      "outputs": [
        {
          "output_type": "stream",
          "text": [
            "Installing package into ‘/usr/local/lib/R/site-library’\n",
            "(as ‘lib’ is unspecified)\n",
            "\n",
            "Installing package into ‘/usr/local/lib/R/site-library’\n",
            "(as ‘lib’ is unspecified)\n",
            "\n",
            "also installing the dependencies ‘coda’, ‘rle’, ‘extrafontdb’, ‘Rttf2pt1’, ‘statnet.common’, ‘ISOcodes’, ‘data.table’, ‘extrafont’, ‘fastmatch’, ‘ggrepel’, ‘network’, ‘RcppParallel’, ‘sna’, ‘SnowballC’, ‘stopwords’, ‘proxyC’, ‘RcppArmadillo’\n",
            "\n",
            "\n",
            "Installing package into ‘/usr/local/lib/R/site-library’\n",
            "(as ‘lib’ is unspecified)\n",
            "\n",
            "also installing the dependencies ‘numDeriv’, ‘SQUAREM’, ‘lava’, ‘prodlim’, ‘iterators’, ‘gower’, ‘ipred’, ‘timeDate’, ‘foreach’, ‘plyr’, ‘ModelMetrics’, ‘reshape2’, ‘recipes’, ‘pROC’\n",
            "\n",
            "\n",
            "Loading required package: lattice\n",
            "\n",
            "Loading required package: ggplot2\n",
            "\n",
            "Warning message in system(\"timedatectl\", intern = TRUE):\n",
            "“running command 'timedatectl' had status 1”\n",
            "Package version: 2.1.2\n",
            "\n",
            "Parallel computing: 2 of 2 threads used.\n",
            "\n",
            "See https://quanteda.io for tutorials and examples.\n",
            "\n",
            "\n",
            "Attaching package: ‘quanteda’\n",
            "\n",
            "\n",
            "The following object is masked from ‘jupyter:irkernel’:\n",
            "\n",
            "    View\n",
            "\n",
            "\n",
            "The following object is masked from ‘package:utils’:\n",
            "\n",
            "    View\n",
            "\n",
            "\n"
          ],
          "name": "stderr"
        }
      ]
    },
    {
      "cell_type": "code",
      "metadata": {
        "id": "fwcshYd2ywiJ"
      },
      "source": [
        "test <- read.csv('test.csv')\n",
        "train <- read.csv('train.csv')\n",
        "stop_word <- read.csv('stop_words.txt')"
      ],
      "execution_count": 3,
      "outputs": []
    },
    {
      "cell_type": "code",
      "metadata": {
        "id": "c6cqyz16vFcw"
      },
      "source": [
        "train.tokens <- tokens(train$Tweet, what = \"word\", \n",
        "                       remove_numbers = TRUE, remove_punct = TRUE, remove_symbols = TRUE, remove_url = TRUE, split_hyphens = TRUE)\n",
        "\n",
        "# Lower case the tokens.\n",
        "train.tokens <- tokens_tolower(train.tokens)\n",
        "\n",
        "train.tokens <- tokens_select(train.tokens, stop_word, \n",
        "                              selection = \"remove\")\n",
        "\n",
        "\n",
        "# Perform stemming on the tokens.\n",
        "train.tokens <- tokens_wordstem(train.tokens, language = \"english\")\n",
        "\n",
        "# Create our first bag-of-words model.\n",
        "train.tokens.dfm <- dfm(train.tokens, tolower = FALSE)\n",
        "\n",
        "\n",
        "# Transform to a matrix and inspect.\n",
        "train.tokens.matrix <- as.matrix(train.tokens.dfm)\n",
        "train.labels <- train$Sentiment\n"
      ],
      "execution_count": 5,
      "outputs": []
    },
    {
      "cell_type": "code",
      "metadata": {
        "id": "-pRQ7gJFzidP",
        "colab": {
          "base_uri": "https://localhost:8080/",
          "height": 303
        },
        "outputId": "c9a7f017-bdc6-46f4-9d12-038e5c8048cc"
      },
      "source": [
        "\n",
        "train.tokens.dataframe <- as.data.frame(train.tokens.matrix)\n",
        "head(train.tokens.dataframe)"
      ],
      "execution_count": 8,
      "outputs": [
        {
          "output_type": "display_data",
          "data": {
            "text/plain": [
              "      @unit from amsterdam to ewr it problem with the link ⋯ @capeair rndtrp\n",
              "text1 1     1    1         1  1   0  0       0    0   0    ⋯ 0        0     \n",
              "text2 1     0    0         0  0   1  1       1    1   1    ⋯ 0        0     \n",
              "text3 1     0    0         1  0   0  0       0    1   0    ⋯ 0        0     \n",
              "text4 0     1    0         1  0   0  0       0    0   0    ⋯ 0        0     \n",
              "text5 0     0    0         0  0   0  0       0    0   0    ⋯ 0        0     \n",
              "text6 0     0    0         0  0   0  0       0    0   0    ⋯ 0        0     \n",
              "      @djq_kc @djimpact #fixthi metar #thismosaicnothappi 6'2 bleh #biztravel\n",
              "text1 0       0         0       0     0                   0   0    0         \n",
              "text2 0       0         0       0     0                   0   0    0         \n",
              "text3 0       0         0       0     0                   0   0    0         \n",
              "text4 0       0         0       0     0                   0   0    0         \n",
              "text5 0       0         0       0     0                   0   0    0         \n",
              "text6 0       0         0       0     0                   0   0    0         "
            ],
            "text/latex": "A data.frame: 6 × 9784\n\\begin{tabular}{r|lllllllllllllllllllll}\n  & @unit & from & amsterdam & to & ewr & it & problem & with & the & link & ⋯ & @capeair & rndtrp & @djq\\_kc & @djimpact & \\#fixthi & metar & \\#thismosaicnothappi & 6'2 & bleh & \\#biztravel\\\\\n  & <dbl> & <dbl> & <dbl> & <dbl> & <dbl> & <dbl> & <dbl> & <dbl> & <dbl> & <dbl> & ⋯ & <dbl> & <dbl> & <dbl> & <dbl> & <dbl> & <dbl> & <dbl> & <dbl> & <dbl> & <dbl>\\\\\n\\hline\n\ttext1 & 1 & 1 & 1 & 1 & 1 & 0 & 0 & 0 & 0 & 0 & ⋯ & 0 & 0 & 0 & 0 & 0 & 0 & 0 & 0 & 0 & 0\\\\\n\ttext2 & 1 & 0 & 0 & 0 & 0 & 1 & 1 & 1 & 1 & 1 & ⋯ & 0 & 0 & 0 & 0 & 0 & 0 & 0 & 0 & 0 & 0\\\\\n\ttext3 & 1 & 0 & 0 & 1 & 0 & 0 & 0 & 0 & 1 & 0 & ⋯ & 0 & 0 & 0 & 0 & 0 & 0 & 0 & 0 & 0 & 0\\\\\n\ttext4 & 0 & 1 & 0 & 1 & 0 & 0 & 0 & 0 & 0 & 0 & ⋯ & 0 & 0 & 0 & 0 & 0 & 0 & 0 & 0 & 0 & 0\\\\\n\ttext5 & 0 & 0 & 0 & 0 & 0 & 0 & 0 & 0 & 0 & 0 & ⋯ & 0 & 0 & 0 & 0 & 0 & 0 & 0 & 0 & 0 & 0\\\\\n\ttext6 & 0 & 0 & 0 & 0 & 0 & 0 & 0 & 0 & 0 & 0 & ⋯ & 0 & 0 & 0 & 0 & 0 & 0 & 0 & 0 & 0 & 0\\\\\n\\end{tabular}\n",
            "text/markdown": "\nA data.frame: 6 × 9784\n\n| <!--/--> | @unit &lt;dbl&gt; | from &lt;dbl&gt; | amsterdam &lt;dbl&gt; | to &lt;dbl&gt; | ewr &lt;dbl&gt; | it &lt;dbl&gt; | problem &lt;dbl&gt; | with &lt;dbl&gt; | the &lt;dbl&gt; | link &lt;dbl&gt; | ⋯ ⋯ | @capeair &lt;dbl&gt; | rndtrp &lt;dbl&gt; | @djq_kc &lt;dbl&gt; | @djimpact &lt;dbl&gt; | #fixthi &lt;dbl&gt; | metar &lt;dbl&gt; | #thismosaicnothappi &lt;dbl&gt; | 6'2 &lt;dbl&gt; | bleh &lt;dbl&gt; | #biztravel &lt;dbl&gt; |\n|---|---|---|---|---|---|---|---|---|---|---|---|---|---|---|---|---|---|---|---|---|---|\n| text1 | 1 | 1 | 1 | 1 | 1 | 0 | 0 | 0 | 0 | 0 | ⋯ | 0 | 0 | 0 | 0 | 0 | 0 | 0 | 0 | 0 | 0 |\n| text2 | 1 | 0 | 0 | 0 | 0 | 1 | 1 | 1 | 1 | 1 | ⋯ | 0 | 0 | 0 | 0 | 0 | 0 | 0 | 0 | 0 | 0 |\n| text3 | 1 | 0 | 0 | 1 | 0 | 0 | 0 | 0 | 1 | 0 | ⋯ | 0 | 0 | 0 | 0 | 0 | 0 | 0 | 0 | 0 | 0 |\n| text4 | 0 | 1 | 0 | 1 | 0 | 0 | 0 | 0 | 0 | 0 | ⋯ | 0 | 0 | 0 | 0 | 0 | 0 | 0 | 0 | 0 | 0 |\n| text5 | 0 | 0 | 0 | 0 | 0 | 0 | 0 | 0 | 0 | 0 | ⋯ | 0 | 0 | 0 | 0 | 0 | 0 | 0 | 0 | 0 | 0 |\n| text6 | 0 | 0 | 0 | 0 | 0 | 0 | 0 | 0 | 0 | 0 | ⋯ | 0 | 0 | 0 | 0 | 0 | 0 | 0 | 0 | 0 | 0 |\n\n",
            "text/html": [
              "<table class=\"dataframe\">\n",
              "<caption>A data.frame: 6 × 9784</caption>\n",
              "<thead>\n",
              "\t<tr><th></th><th scope=col>@unit</th><th scope=col>from</th><th scope=col>amsterdam</th><th scope=col>to</th><th scope=col>ewr</th><th scope=col>it</th><th scope=col>problem</th><th scope=col>with</th><th scope=col>the</th><th scope=col>link</th><th scope=col>⋯</th><th scope=col>@capeair</th><th scope=col>rndtrp</th><th scope=col>@djq_kc</th><th scope=col>@djimpact</th><th scope=col>#fixthi</th><th scope=col>metar</th><th scope=col>#thismosaicnothappi</th><th scope=col>6'2</th><th scope=col>bleh</th><th scope=col>#biztravel</th></tr>\n",
              "\t<tr><th></th><th scope=col>&lt;dbl&gt;</th><th scope=col>&lt;dbl&gt;</th><th scope=col>&lt;dbl&gt;</th><th scope=col>&lt;dbl&gt;</th><th scope=col>&lt;dbl&gt;</th><th scope=col>&lt;dbl&gt;</th><th scope=col>&lt;dbl&gt;</th><th scope=col>&lt;dbl&gt;</th><th scope=col>&lt;dbl&gt;</th><th scope=col>&lt;dbl&gt;</th><th scope=col>⋯</th><th scope=col>&lt;dbl&gt;</th><th scope=col>&lt;dbl&gt;</th><th scope=col>&lt;dbl&gt;</th><th scope=col>&lt;dbl&gt;</th><th scope=col>&lt;dbl&gt;</th><th scope=col>&lt;dbl&gt;</th><th scope=col>&lt;dbl&gt;</th><th scope=col>&lt;dbl&gt;</th><th scope=col>&lt;dbl&gt;</th><th scope=col>&lt;dbl&gt;</th></tr>\n",
              "</thead>\n",
              "<tbody>\n",
              "\t<tr><th scope=row>text1</th><td>1</td><td>1</td><td>1</td><td>1</td><td>1</td><td>0</td><td>0</td><td>0</td><td>0</td><td>0</td><td>⋯</td><td>0</td><td>0</td><td>0</td><td>0</td><td>0</td><td>0</td><td>0</td><td>0</td><td>0</td><td>0</td></tr>\n",
              "\t<tr><th scope=row>text2</th><td>1</td><td>0</td><td>0</td><td>0</td><td>0</td><td>1</td><td>1</td><td>1</td><td>1</td><td>1</td><td>⋯</td><td>0</td><td>0</td><td>0</td><td>0</td><td>0</td><td>0</td><td>0</td><td>0</td><td>0</td><td>0</td></tr>\n",
              "\t<tr><th scope=row>text3</th><td>1</td><td>0</td><td>0</td><td>1</td><td>0</td><td>0</td><td>0</td><td>0</td><td>1</td><td>0</td><td>⋯</td><td>0</td><td>0</td><td>0</td><td>0</td><td>0</td><td>0</td><td>0</td><td>0</td><td>0</td><td>0</td></tr>\n",
              "\t<tr><th scope=row>text4</th><td>0</td><td>1</td><td>0</td><td>1</td><td>0</td><td>0</td><td>0</td><td>0</td><td>0</td><td>0</td><td>⋯</td><td>0</td><td>0</td><td>0</td><td>0</td><td>0</td><td>0</td><td>0</td><td>0</td><td>0</td><td>0</td></tr>\n",
              "\t<tr><th scope=row>text5</th><td>0</td><td>0</td><td>0</td><td>0</td><td>0</td><td>0</td><td>0</td><td>0</td><td>0</td><td>0</td><td>⋯</td><td>0</td><td>0</td><td>0</td><td>0</td><td>0</td><td>0</td><td>0</td><td>0</td><td>0</td><td>0</td></tr>\n",
              "\t<tr><th scope=row>text6</th><td>0</td><td>0</td><td>0</td><td>0</td><td>0</td><td>0</td><td>0</td><td>0</td><td>0</td><td>0</td><td>⋯</td><td>0</td><td>0</td><td>0</td><td>0</td><td>0</td><td>0</td><td>0</td><td>0</td><td>0</td><td>0</td></tr>\n",
              "</tbody>\n",
              "</table>\n"
            ]
          },
          "metadata": {
            "tags": []
          }
        }
      ]
    },
    {
      "cell_type": "code",
      "metadata": {
        "colab": {
          "base_uri": "https://localhost:8080/",
          "height": 303
        },
        "id": "IarrRLeuz1Dw",
        "outputId": "51cfed0c-02fe-4f7a-a06c-34fd3539dd8e"
      },
      "source": [
        "train.tokens.dataframe <- train.tokens.dataframe[,-1]\n",
        "head(train.tokens.dataframe)"
      ],
      "execution_count": 9,
      "outputs": [
        {
          "output_type": "display_data",
          "data": {
            "text/plain": [
              "      from amsterdam to ewr it problem with the link #3thparti ⋯ @capeair\n",
              "text1 1    1         1  1   0  0       0    0   0    0         ⋯ 0       \n",
              "text2 0    0         0  0   1  1       1    1   1    1         ⋯ 0       \n",
              "text3 0    0         1  0   0  0       0    1   0    0         ⋯ 0       \n",
              "text4 1    0         1  0   0  0       0    0   0    0         ⋯ 0       \n",
              "text5 0    0         0  0   0  0       0    0   0    0         ⋯ 0       \n",
              "text6 0    0         0  0   0  0       0    0   0    0         ⋯ 0       \n",
              "      rndtrp @djq_kc @djimpact #fixthi metar #thismosaicnothappi 6'2 bleh\n",
              "text1 0      0       0         0       0     0                   0   0   \n",
              "text2 0      0       0         0       0     0                   0   0   \n",
              "text3 0      0       0         0       0     0                   0   0   \n",
              "text4 0      0       0         0       0     0                   0   0   \n",
              "text5 0      0       0         0       0     0                   0   0   \n",
              "text6 0      0       0         0       0     0                   0   0   \n",
              "      #biztravel\n",
              "text1 0         \n",
              "text2 0         \n",
              "text3 0         \n",
              "text4 0         \n",
              "text5 0         \n",
              "text6 0         "
            ],
            "text/latex": "A data.frame: 6 × 9783\n\\begin{tabular}{r|lllllllllllllllllllll}\n  & from & amsterdam & to & ewr & it & problem & with & the & link & \\#3thparti & ⋯ & @capeair & rndtrp & @djq\\_kc & @djimpact & \\#fixthi & metar & \\#thismosaicnothappi & 6'2 & bleh & \\#biztravel\\\\\n  & <dbl> & <dbl> & <dbl> & <dbl> & <dbl> & <dbl> & <dbl> & <dbl> & <dbl> & <dbl> & ⋯ & <dbl> & <dbl> & <dbl> & <dbl> & <dbl> & <dbl> & <dbl> & <dbl> & <dbl> & <dbl>\\\\\n\\hline\n\ttext1 & 1 & 1 & 1 & 1 & 0 & 0 & 0 & 0 & 0 & 0 & ⋯ & 0 & 0 & 0 & 0 & 0 & 0 & 0 & 0 & 0 & 0\\\\\n\ttext2 & 0 & 0 & 0 & 0 & 1 & 1 & 1 & 1 & 1 & 1 & ⋯ & 0 & 0 & 0 & 0 & 0 & 0 & 0 & 0 & 0 & 0\\\\\n\ttext3 & 0 & 0 & 1 & 0 & 0 & 0 & 0 & 1 & 0 & 0 & ⋯ & 0 & 0 & 0 & 0 & 0 & 0 & 0 & 0 & 0 & 0\\\\\n\ttext4 & 1 & 0 & 1 & 0 & 0 & 0 & 0 & 0 & 0 & 0 & ⋯ & 0 & 0 & 0 & 0 & 0 & 0 & 0 & 0 & 0 & 0\\\\\n\ttext5 & 0 & 0 & 0 & 0 & 0 & 0 & 0 & 0 & 0 & 0 & ⋯ & 0 & 0 & 0 & 0 & 0 & 0 & 0 & 0 & 0 & 0\\\\\n\ttext6 & 0 & 0 & 0 & 0 & 0 & 0 & 0 & 0 & 0 & 0 & ⋯ & 0 & 0 & 0 & 0 & 0 & 0 & 0 & 0 & 0 & 0\\\\\n\\end{tabular}\n",
            "text/markdown": "\nA data.frame: 6 × 9783\n\n| <!--/--> | from &lt;dbl&gt; | amsterdam &lt;dbl&gt; | to &lt;dbl&gt; | ewr &lt;dbl&gt; | it &lt;dbl&gt; | problem &lt;dbl&gt; | with &lt;dbl&gt; | the &lt;dbl&gt; | link &lt;dbl&gt; | #3thparti &lt;dbl&gt; | ⋯ ⋯ | @capeair &lt;dbl&gt; | rndtrp &lt;dbl&gt; | @djq_kc &lt;dbl&gt; | @djimpact &lt;dbl&gt; | #fixthi &lt;dbl&gt; | metar &lt;dbl&gt; | #thismosaicnothappi &lt;dbl&gt; | 6'2 &lt;dbl&gt; | bleh &lt;dbl&gt; | #biztravel &lt;dbl&gt; |\n|---|---|---|---|---|---|---|---|---|---|---|---|---|---|---|---|---|---|---|---|---|---|\n| text1 | 1 | 1 | 1 | 1 | 0 | 0 | 0 | 0 | 0 | 0 | ⋯ | 0 | 0 | 0 | 0 | 0 | 0 | 0 | 0 | 0 | 0 |\n| text2 | 0 | 0 | 0 | 0 | 1 | 1 | 1 | 1 | 1 | 1 | ⋯ | 0 | 0 | 0 | 0 | 0 | 0 | 0 | 0 | 0 | 0 |\n| text3 | 0 | 0 | 1 | 0 | 0 | 0 | 0 | 1 | 0 | 0 | ⋯ | 0 | 0 | 0 | 0 | 0 | 0 | 0 | 0 | 0 | 0 |\n| text4 | 1 | 0 | 1 | 0 | 0 | 0 | 0 | 0 | 0 | 0 | ⋯ | 0 | 0 | 0 | 0 | 0 | 0 | 0 | 0 | 0 | 0 |\n| text5 | 0 | 0 | 0 | 0 | 0 | 0 | 0 | 0 | 0 | 0 | ⋯ | 0 | 0 | 0 | 0 | 0 | 0 | 0 | 0 | 0 | 0 |\n| text6 | 0 | 0 | 0 | 0 | 0 | 0 | 0 | 0 | 0 | 0 | ⋯ | 0 | 0 | 0 | 0 | 0 | 0 | 0 | 0 | 0 | 0 |\n\n",
            "text/html": [
              "<table class=\"dataframe\">\n",
              "<caption>A data.frame: 6 × 9783</caption>\n",
              "<thead>\n",
              "\t<tr><th></th><th scope=col>from</th><th scope=col>amsterdam</th><th scope=col>to</th><th scope=col>ewr</th><th scope=col>it</th><th scope=col>problem</th><th scope=col>with</th><th scope=col>the</th><th scope=col>link</th><th scope=col>#3thparti</th><th scope=col>⋯</th><th scope=col>@capeair</th><th scope=col>rndtrp</th><th scope=col>@djq_kc</th><th scope=col>@djimpact</th><th scope=col>#fixthi</th><th scope=col>metar</th><th scope=col>#thismosaicnothappi</th><th scope=col>6'2</th><th scope=col>bleh</th><th scope=col>#biztravel</th></tr>\n",
              "\t<tr><th></th><th scope=col>&lt;dbl&gt;</th><th scope=col>&lt;dbl&gt;</th><th scope=col>&lt;dbl&gt;</th><th scope=col>&lt;dbl&gt;</th><th scope=col>&lt;dbl&gt;</th><th scope=col>&lt;dbl&gt;</th><th scope=col>&lt;dbl&gt;</th><th scope=col>&lt;dbl&gt;</th><th scope=col>&lt;dbl&gt;</th><th scope=col>&lt;dbl&gt;</th><th scope=col>⋯</th><th scope=col>&lt;dbl&gt;</th><th scope=col>&lt;dbl&gt;</th><th scope=col>&lt;dbl&gt;</th><th scope=col>&lt;dbl&gt;</th><th scope=col>&lt;dbl&gt;</th><th scope=col>&lt;dbl&gt;</th><th scope=col>&lt;dbl&gt;</th><th scope=col>&lt;dbl&gt;</th><th scope=col>&lt;dbl&gt;</th><th scope=col>&lt;dbl&gt;</th></tr>\n",
              "</thead>\n",
              "<tbody>\n",
              "\t<tr><th scope=row>text1</th><td>1</td><td>1</td><td>1</td><td>1</td><td>0</td><td>0</td><td>0</td><td>0</td><td>0</td><td>0</td><td>⋯</td><td>0</td><td>0</td><td>0</td><td>0</td><td>0</td><td>0</td><td>0</td><td>0</td><td>0</td><td>0</td></tr>\n",
              "\t<tr><th scope=row>text2</th><td>0</td><td>0</td><td>0</td><td>0</td><td>1</td><td>1</td><td>1</td><td>1</td><td>1</td><td>1</td><td>⋯</td><td>0</td><td>0</td><td>0</td><td>0</td><td>0</td><td>0</td><td>0</td><td>0</td><td>0</td><td>0</td></tr>\n",
              "\t<tr><th scope=row>text3</th><td>0</td><td>0</td><td>1</td><td>0</td><td>0</td><td>0</td><td>0</td><td>1</td><td>0</td><td>0</td><td>⋯</td><td>0</td><td>0</td><td>0</td><td>0</td><td>0</td><td>0</td><td>0</td><td>0</td><td>0</td><td>0</td></tr>\n",
              "\t<tr><th scope=row>text4</th><td>1</td><td>0</td><td>1</td><td>0</td><td>0</td><td>0</td><td>0</td><td>0</td><td>0</td><td>0</td><td>⋯</td><td>0</td><td>0</td><td>0</td><td>0</td><td>0</td><td>0</td><td>0</td><td>0</td><td>0</td><td>0</td></tr>\n",
              "\t<tr><th scope=row>text5</th><td>0</td><td>0</td><td>0</td><td>0</td><td>0</td><td>0</td><td>0</td><td>0</td><td>0</td><td>0</td><td>⋯</td><td>0</td><td>0</td><td>0</td><td>0</td><td>0</td><td>0</td><td>0</td><td>0</td><td>0</td><td>0</td></tr>\n",
              "\t<tr><th scope=row>text6</th><td>0</td><td>0</td><td>0</td><td>0</td><td>0</td><td>0</td><td>0</td><td>0</td><td>0</td><td>0</td><td>⋯</td><td>0</td><td>0</td><td>0</td><td>0</td><td>0</td><td>0</td><td>0</td><td>0</td><td>0</td><td>0</td></tr>\n",
              "</tbody>\n",
              "</table>\n"
            ]
          },
          "metadata": {
            "tags": []
          }
        }
      ]
    },
    {
      "cell_type": "code",
      "metadata": {
        "id": "aWkay4K8yArF"
      },
      "source": [
        "\n",
        "test.tokens <- tokens(test$Tweet, what = \"word\", \n",
        "                       remove_numbers = TRUE, remove_punct = TRUE, remove_symbols = TRUE, remove_url = TRUE)\n",
        "\n",
        "# Lower case the tokens.\n",
        "test.tokens <- tokens_tolower(test.tokens)\n",
        "\n",
        "test.tokens <- tokens_select(test.tokens, stop_word, \n",
        "                              selection = \"remove\")\n",
        "\n",
        "\n",
        "# Perform stemming on the tokens.\n",
        "test.tokens <- tokens_wordstem(test.tokens, language = \"english\")\n",
        "\n",
        "# Create our first bag-of-words model.\n",
        "test.tokens.dfm <- dfm(test.tokens, tolower = FALSE)\n",
        "\n",
        "\n",
        "# Transform to a matrix and inspect.\n",
        "test.tokens.matrix <- as.matrix(test.tokens.dfm)\n",
        "test.labels <- test$Sentiment\n"
      ],
      "execution_count": 11,
      "outputs": []
    },
    {
      "cell_type": "code",
      "metadata": {
        "colab": {
          "base_uri": "https://localhost:8080/",
          "height": 320
        },
        "id": "W8iMiud7vbTV",
        "outputId": "51495b85-b8ca-454c-ca6d-e38d12697894"
      },
      "source": [
        "test.tokens.dataframe <- as.data.frame(test.tokens.matrix)\n",
        "head(test.tokens.dataframe)"
      ],
      "execution_count": 12,
      "outputs": [
        {
          "output_type": "display_data",
          "data": {
            "text/plain": [
              "      @virginamerica to jump into the dallas-austin market @dalla_news\n",
              "text1 1              1  1    1    1   1             1      1          \n",
              "text2 0              1  0    0    0   0             0      0          \n",
              "text3 0              0  0    0    0   0             0      0          \n",
              "text4 0              2  0    0    0   0             0      0          \n",
              "text5 0              0  0    0    0   0             0      0          \n",
              "text6 0              1  0    0    0   0             0      0          \n",
              "      @americanair chicago ⋯ #bushug format #impact #busad #thinkbus\n",
              "text1 0            0       ⋯ 0       0      0       0      0        \n",
              "text2 1            1       ⋯ 0       0      0       0      0        \n",
              "text3 0            0       ⋯ 0       0      0       0      0        \n",
              "text4 0            0       ⋯ 0       0      0       0      0        \n",
              "text5 0            0       ⋯ 0       0      0       0      0        \n",
              "text6 0            0       ⋯ 0       0      0       0      0        \n",
              "      @belfastairport westchest cti reassign #fuckoff\n",
              "text1 0               0         0   0        0       \n",
              "text2 0               0         0   0        0       \n",
              "text3 0               0         0   0        0       \n",
              "text4 0               0         0   0        0       \n",
              "text5 0               0         0   0        0       \n",
              "text6 0               0         0   0        0       "
            ],
            "text/latex": "A data.frame: 6 × 4676\n\\begin{tabular}{r|lllllllllllllllllllll}\n  & @virginamerica & to & jump & into & the & dallas-austin & market & @dalla\\_news & @americanair & chicago & ⋯ & \\#bushug & format & \\#impact & \\#busad & \\#thinkbus & @belfastairport & westchest & cti & reassign & \\#fuckoff\\\\\n  & <dbl> & <dbl> & <dbl> & <dbl> & <dbl> & <dbl> & <dbl> & <dbl> & <dbl> & <dbl> & ⋯ & <dbl> & <dbl> & <dbl> & <dbl> & <dbl> & <dbl> & <dbl> & <dbl> & <dbl> & <dbl>\\\\\n\\hline\n\ttext1 & 1 & 1 & 1 & 1 & 1 & 1 & 1 & 1 & 0 & 0 & ⋯ & 0 & 0 & 0 & 0 & 0 & 0 & 0 & 0 & 0 & 0\\\\\n\ttext2 & 0 & 1 & 0 & 0 & 0 & 0 & 0 & 0 & 1 & 1 & ⋯ & 0 & 0 & 0 & 0 & 0 & 0 & 0 & 0 & 0 & 0\\\\\n\ttext3 & 0 & 0 & 0 & 0 & 0 & 0 & 0 & 0 & 0 & 0 & ⋯ & 0 & 0 & 0 & 0 & 0 & 0 & 0 & 0 & 0 & 0\\\\\n\ttext4 & 0 & 2 & 0 & 0 & 0 & 0 & 0 & 0 & 0 & 0 & ⋯ & 0 & 0 & 0 & 0 & 0 & 0 & 0 & 0 & 0 & 0\\\\\n\ttext5 & 0 & 0 & 0 & 0 & 0 & 0 & 0 & 0 & 0 & 0 & ⋯ & 0 & 0 & 0 & 0 & 0 & 0 & 0 & 0 & 0 & 0\\\\\n\ttext6 & 0 & 1 & 0 & 0 & 0 & 0 & 0 & 0 & 0 & 0 & ⋯ & 0 & 0 & 0 & 0 & 0 & 0 & 0 & 0 & 0 & 0\\\\\n\\end{tabular}\n",
            "text/markdown": "\nA data.frame: 6 × 4676\n\n| <!--/--> | @virginamerica &lt;dbl&gt; | to &lt;dbl&gt; | jump &lt;dbl&gt; | into &lt;dbl&gt; | the &lt;dbl&gt; | dallas-austin &lt;dbl&gt; | market &lt;dbl&gt; | @dalla_news &lt;dbl&gt; | @americanair &lt;dbl&gt; | chicago &lt;dbl&gt; | ⋯ ⋯ | #bushug &lt;dbl&gt; | format &lt;dbl&gt; | #impact &lt;dbl&gt; | #busad &lt;dbl&gt; | #thinkbus &lt;dbl&gt; | @belfastairport &lt;dbl&gt; | westchest &lt;dbl&gt; | cti &lt;dbl&gt; | reassign &lt;dbl&gt; | #fuckoff &lt;dbl&gt; |\n|---|---|---|---|---|---|---|---|---|---|---|---|---|---|---|---|---|---|---|---|---|---|\n| text1 | 1 | 1 | 1 | 1 | 1 | 1 | 1 | 1 | 0 | 0 | ⋯ | 0 | 0 | 0 | 0 | 0 | 0 | 0 | 0 | 0 | 0 |\n| text2 | 0 | 1 | 0 | 0 | 0 | 0 | 0 | 0 | 1 | 1 | ⋯ | 0 | 0 | 0 | 0 | 0 | 0 | 0 | 0 | 0 | 0 |\n| text3 | 0 | 0 | 0 | 0 | 0 | 0 | 0 | 0 | 0 | 0 | ⋯ | 0 | 0 | 0 | 0 | 0 | 0 | 0 | 0 | 0 | 0 |\n| text4 | 0 | 2 | 0 | 0 | 0 | 0 | 0 | 0 | 0 | 0 | ⋯ | 0 | 0 | 0 | 0 | 0 | 0 | 0 | 0 | 0 | 0 |\n| text5 | 0 | 0 | 0 | 0 | 0 | 0 | 0 | 0 | 0 | 0 | ⋯ | 0 | 0 | 0 | 0 | 0 | 0 | 0 | 0 | 0 | 0 |\n| text6 | 0 | 1 | 0 | 0 | 0 | 0 | 0 | 0 | 0 | 0 | ⋯ | 0 | 0 | 0 | 0 | 0 | 0 | 0 | 0 | 0 | 0 |\n\n",
            "text/html": [
              "<table class=\"dataframe\">\n",
              "<caption>A data.frame: 6 × 4676</caption>\n",
              "<thead>\n",
              "\t<tr><th></th><th scope=col>@virginamerica</th><th scope=col>to</th><th scope=col>jump</th><th scope=col>into</th><th scope=col>the</th><th scope=col>dallas-austin</th><th scope=col>market</th><th scope=col>@dalla_news</th><th scope=col>@americanair</th><th scope=col>chicago</th><th scope=col>⋯</th><th scope=col>#bushug</th><th scope=col>format</th><th scope=col>#impact</th><th scope=col>#busad</th><th scope=col>#thinkbus</th><th scope=col>@belfastairport</th><th scope=col>westchest</th><th scope=col>cti</th><th scope=col>reassign</th><th scope=col>#fuckoff</th></tr>\n",
              "\t<tr><th></th><th scope=col>&lt;dbl&gt;</th><th scope=col>&lt;dbl&gt;</th><th scope=col>&lt;dbl&gt;</th><th scope=col>&lt;dbl&gt;</th><th scope=col>&lt;dbl&gt;</th><th scope=col>&lt;dbl&gt;</th><th scope=col>&lt;dbl&gt;</th><th scope=col>&lt;dbl&gt;</th><th scope=col>&lt;dbl&gt;</th><th scope=col>&lt;dbl&gt;</th><th scope=col>⋯</th><th scope=col>&lt;dbl&gt;</th><th scope=col>&lt;dbl&gt;</th><th scope=col>&lt;dbl&gt;</th><th scope=col>&lt;dbl&gt;</th><th scope=col>&lt;dbl&gt;</th><th scope=col>&lt;dbl&gt;</th><th scope=col>&lt;dbl&gt;</th><th scope=col>&lt;dbl&gt;</th><th scope=col>&lt;dbl&gt;</th><th scope=col>&lt;dbl&gt;</th></tr>\n",
              "</thead>\n",
              "<tbody>\n",
              "\t<tr><th scope=row>text1</th><td>1</td><td>1</td><td>1</td><td>1</td><td>1</td><td>1</td><td>1</td><td>1</td><td>0</td><td>0</td><td>⋯</td><td>0</td><td>0</td><td>0</td><td>0</td><td>0</td><td>0</td><td>0</td><td>0</td><td>0</td><td>0</td></tr>\n",
              "\t<tr><th scope=row>text2</th><td>0</td><td>1</td><td>0</td><td>0</td><td>0</td><td>0</td><td>0</td><td>0</td><td>1</td><td>1</td><td>⋯</td><td>0</td><td>0</td><td>0</td><td>0</td><td>0</td><td>0</td><td>0</td><td>0</td><td>0</td><td>0</td></tr>\n",
              "\t<tr><th scope=row>text3</th><td>0</td><td>0</td><td>0</td><td>0</td><td>0</td><td>0</td><td>0</td><td>0</td><td>0</td><td>0</td><td>⋯</td><td>0</td><td>0</td><td>0</td><td>0</td><td>0</td><td>0</td><td>0</td><td>0</td><td>0</td><td>0</td></tr>\n",
              "\t<tr><th scope=row>text4</th><td>0</td><td>2</td><td>0</td><td>0</td><td>0</td><td>0</td><td>0</td><td>0</td><td>0</td><td>0</td><td>⋯</td><td>0</td><td>0</td><td>0</td><td>0</td><td>0</td><td>0</td><td>0</td><td>0</td><td>0</td><td>0</td></tr>\n",
              "\t<tr><th scope=row>text5</th><td>0</td><td>0</td><td>0</td><td>0</td><td>0</td><td>0</td><td>0</td><td>0</td><td>0</td><td>0</td><td>⋯</td><td>0</td><td>0</td><td>0</td><td>0</td><td>0</td><td>0</td><td>0</td><td>0</td><td>0</td><td>0</td></tr>\n",
              "\t<tr><th scope=row>text6</th><td>0</td><td>1</td><td>0</td><td>0</td><td>0</td><td>0</td><td>0</td><td>0</td><td>0</td><td>0</td><td>⋯</td><td>0</td><td>0</td><td>0</td><td>0</td><td>0</td><td>0</td><td>0</td><td>0</td><td>0</td><td>0</td></tr>\n",
              "</tbody>\n",
              "</table>\n"
            ]
          },
          "metadata": {
            "tags": []
          }
        }
      ]
    },
    {
      "cell_type": "code",
      "metadata": {
        "colab": {
          "base_uri": "https://localhost:8080/",
          "height": 51
        },
        "id": "zdHuteOZ03pV",
        "outputId": "475d3844-a3b4-4a5c-acee-e224b5d71709"
      },
      "source": [
        "dim(train.tokens.dataframe)\n",
        "dim(test.tokens.dataframe)\n"
      ],
      "execution_count": 14,
      "outputs": [
        {
          "output_type": "display_data",
          "data": {
            "text/plain": [
              "[1] 11680  9783"
            ],
            "text/latex": "\\begin{enumerate*}\n\\item 11680\n\\item 9783\n\\end{enumerate*}\n",
            "text/markdown": "1. 11680\n2. 9783\n\n\n",
            "text/html": [
              "<style>\n",
              ".list-inline {list-style: none; margin:0; padding: 0}\n",
              ".list-inline>li {display: inline-block}\n",
              ".list-inline>li:not(:last-child)::after {content: \"\\00b7\"; padding: 0 .5ex}\n",
              "</style>\n",
              "<ol class=list-inline><li>11680</li><li>9783</li></ol>\n"
            ]
          },
          "metadata": {
            "tags": []
          }
        },
        {
          "output_type": "display_data",
          "data": {
            "text/plain": [
              "[1] 2921 4676"
            ],
            "text/latex": "\\begin{enumerate*}\n\\item 2921\n\\item 4676\n\\end{enumerate*}\n",
            "text/markdown": "1. 2921\n2. 4676\n\n\n",
            "text/html": [
              "<style>\n",
              ".list-inline {list-style: none; margin:0; padding: 0}\n",
              ".list-inline>li {display: inline-block}\n",
              ".list-inline>li:not(:last-child)::after {content: \"\\00b7\"; padding: 0 .5ex}\n",
              "</style>\n",
              "<ol class=list-inline><li>2921</li><li>4676</li></ol>\n"
            ]
          },
          "metadata": {
            "tags": []
          }
        }
      ]
    },
    {
      "cell_type": "code",
      "metadata": {
        "colab": {
          "base_uri": "https://localhost:8080/",
          "height": 51
        },
        "id": "wm5vam711z6R",
        "outputId": "be0761f9-473f-4024-f34e-fa216ff2669b"
      },
      "source": [
        "\n",
        "train.tokens.dataframe <- train.tokens.dataframe[,intersect(colnames(test.tokens.dataframe), colnames(train.tokens.dataframe))]\n",
        "test.tokens.dataframe <- test.tokens.dataframe[,intersect(colnames(test.tokens.dataframe),colnames(train.tokens.dataframe))]\n",
        "\n",
        "dim(train.tokens.dataframe)\n",
        "dim(test.tokens.dataframe)\n"
      ],
      "execution_count": 15,
      "outputs": [
        {
          "output_type": "display_data",
          "data": {
            "text/plain": [
              "[1] 11680  3239"
            ],
            "text/latex": "\\begin{enumerate*}\n\\item 11680\n\\item 3239\n\\end{enumerate*}\n",
            "text/markdown": "1. 11680\n2. 3239\n\n\n",
            "text/html": [
              "<style>\n",
              ".list-inline {list-style: none; margin:0; padding: 0}\n",
              ".list-inline>li {display: inline-block}\n",
              ".list-inline>li:not(:last-child)::after {content: \"\\00b7\"; padding: 0 .5ex}\n",
              "</style>\n",
              "<ol class=list-inline><li>11680</li><li>3239</li></ol>\n"
            ]
          },
          "metadata": {
            "tags": []
          }
        },
        {
          "output_type": "display_data",
          "data": {
            "text/plain": [
              "[1] 2921 3239"
            ],
            "text/latex": "\\begin{enumerate*}\n\\item 2921\n\\item 3239\n\\end{enumerate*}\n",
            "text/markdown": "1. 2921\n2. 3239\n\n\n",
            "text/html": [
              "<style>\n",
              ".list-inline {list-style: none; margin:0; padding: 0}\n",
              ".list-inline>li {display: inline-block}\n",
              ".list-inline>li:not(:last-child)::after {content: \"\\00b7\"; padding: 0 .5ex}\n",
              "</style>\n",
              "<ol class=list-inline><li>2921</li><li>3239</li></ol>\n"
            ]
          },
          "metadata": {
            "tags": []
          }
        }
      ]
    },
    {
      "cell_type": "code",
      "metadata": {
        "id": "t_Ai3mqT5OTQ"
      },
      "source": [
        "normalize <- function(x)\n",
        "{\n",
        "  return((x-min(x))/(max(x)-min(x)))\n",
        "}\n",
        "\n",
        "train_n <- as.data.frame(lapply(train.tokens.dataframe, normalize))\n",
        "test_n <- as.data.frame(lapply(test.tokens.dataframe, normalize))"
      ],
      "execution_count": 18,
      "outputs": []
    },
    {
      "cell_type": "code",
      "metadata": {
        "id": "LQaBP-OS9rFa"
      },
      "source": [
        "pred <- knn(test = test_n, train= train_n, k = 97, cl = train.labels)"
      ],
      "execution_count": 21,
      "outputs": []
    },
    {
      "cell_type": "code",
      "metadata": {
        "id": "1KOgmKRj0zJT",
        "colab": {
          "base_uri": "https://localhost:8080/",
          "height": 119
        },
        "outputId": "8741f61e-3098-4a2b-fb3b-3cea107dffbe"
      },
      "source": [
        "table(train.labels)\n",
        "table(test.labels)"
      ],
      "execution_count": 20,
      "outputs": [
        {
          "output_type": "display_data",
          "data": {
            "text/plain": [
              "train.labels\n",
              "negative  neutral positive \n",
              "    7331     2461     1888 "
            ]
          },
          "metadata": {
            "tags": []
          }
        },
        {
          "output_type": "display_data",
          "data": {
            "text/plain": [
              "test.labels\n",
              "negative  neutral positive \n",
              "    1834      615      472 "
            ]
          },
          "metadata": {
            "tags": []
          }
        }
      ]
    },
    {
      "cell_type": "code",
      "metadata": {
        "id": "4CUBWPpQFU5F",
        "outputId": "3ccfe6ba-cd8a-4c57-d0a1-313c5793fa64",
        "colab": {
          "base_uri": "https://localhost:8080/"
        }
      },
      "source": [
        "CrossTable(x = pred, y = test.labels, chisq = T)"
      ],
      "execution_count": 27,
      "outputs": [
        {
          "output_type": "stream",
          "text": [
            "\n",
            " \n",
            "   Cell Contents\n",
            "|-------------------------|\n",
            "|                       N |\n",
            "| Chi-square contribution |\n",
            "|           N / Row Total |\n",
            "|           N / Col Total |\n",
            "|         N / Table Total |\n",
            "|-------------------------|\n",
            "\n",
            " \n",
            "Total Observations in Table:  2921 \n",
            "\n",
            " \n",
            "             | test.labels \n",
            "        pred |  negative |   neutral |  positive | Row Total | \n",
            "-------------|-----------|-----------|-----------|-----------|\n",
            "    negative |        96 |         1 |         1 |        98 | \n",
            "             |    19.309 |    18.682 |    13.899 |           | \n",
            "             |     0.980 |     0.010 |     0.010 |     0.034 | \n",
            "             |     0.052 |     0.002 |     0.002 |           | \n",
            "             |     0.033 |     0.000 |     0.000 |           | \n",
            "-------------|-----------|-----------|-----------|-----------|\n",
            "     neutral |       215 |        96 |        21 |       332 | \n",
            "             |     0.206 |     9.745 |    19.868 |           | \n",
            "             |     0.648 |     0.289 |     0.063 |     0.114 | \n",
            "             |     0.117 |     0.156 |     0.044 |           | \n",
            "             |     0.074 |     0.033 |     0.007 |           | \n",
            "-------------|-----------|-----------|-----------|-----------|\n",
            "    positive |      1523 |       518 |       450 |      2491 | \n",
            "             |     1.076 |     0.080 |     5.601 |           | \n",
            "             |     0.611 |     0.208 |     0.181 |     0.853 | \n",
            "             |     0.830 |     0.842 |     0.953 |           | \n",
            "             |     0.521 |     0.177 |     0.154 |           | \n",
            "-------------|-----------|-----------|-----------|-----------|\n",
            "Column Total |      1834 |       615 |       472 |      2921 | \n",
            "             |     0.628 |     0.211 |     0.162 |           | \n",
            "-------------|-----------|-----------|-----------|-----------|\n",
            "\n",
            " \n",
            "Statistics for All Table Factors\n",
            "\n",
            "\n",
            "Pearson's Chi-squared test \n",
            "------------------------------------------------------------\n",
            "Chi^2 =  88.46486     d.f. =  4     p =  2.789649e-18 \n",
            "\n",
            "\n",
            " \n"
          ],
          "name": "stdout"
        }
      ]
    },
    {
      "cell_type": "code",
      "metadata": {
        "id": "1CnR5Y8FUh5R",
        "outputId": "4cb8f843-a448-431a-871f-ba95d7aede43",
        "colab": {
          "base_uri": "https://localhost:8080/"
        }
      },
      "source": [
        "install.packages('gmodels')\n",
        "library(gmodels)"
      ],
      "execution_count": 24,
      "outputs": [
        {
          "output_type": "stream",
          "text": [
            "Installing package into ‘/usr/local/lib/R/site-library’\n",
            "(as ‘lib’ is unspecified)\n",
            "\n",
            "also installing the dependencies ‘gtools’, ‘gdata’\n",
            "\n",
            "\n"
          ],
          "name": "stderr"
        }
      ]
    }
  ]
}